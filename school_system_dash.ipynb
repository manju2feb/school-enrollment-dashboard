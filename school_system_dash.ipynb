{
 "cells": [
  {
   "cell_type": "code",
   "execution_count": null,
   "id": "2a21b449",
   "metadata": {},
   "outputs": [],
   "source": [
    "import pandas as pd\n",
    "\n",
    "df = pd.read_csv('/workspaces/codespaces-jupyter/data/FTE Enrollment by Grade Fiscal Year2019-3 Data Report.csv', skiprows=5, encoding='latin1')\n",
    "print(df.head())"
   ]
  },
  {
   "cell_type": "code",
   "execution_count": null,
   "id": "cd01215b",
   "metadata": {},
   "outputs": [],
   "source": [
    "import plotly.express as px\n",
    "# Identify grade columns\n",
    "grade_columns = [col for col in df.columns if 'Grade' in col]\n",
    "\n",
    "# Aggregate enrollment numbers across all schools\n",
    "grade_totals = df[grade_columns].sum().reset_index()\n",
    "grade_totals.columns = ['Grade', 'Enrollment']\n",
    "\n",
    "# Grade ordering\n",
    "grade_order = ['Grade PK', 'Grade KK'] + [f'Grade {str(i).zfill(2)}' for i in range(1, 13)]\n",
    "grade_totals['Grade'] = pd.Categorical(grade_totals['Grade'], categories=grade_order, ordered=True)\n",
    "grade_totals = grade_totals.sort_values('Grade')\n",
    "\n",
    "# Interactive bar chart\n",
    "fig = px.bar(\n",
    "    grade_totals,\n",
    "    x='Grade',\n",
    "    y='Enrollment',\n",
    "    title='District-wide Enrollment by Grade (FTE 2019-3)',\n",
    "    labels={'Enrollment': 'Number of Students'},\n",
    "    text_auto=True\n",
    ")\n",
    "fig.show()"
   ]
  },
  {
   "cell_type": "code",
   "execution_count": null,
   "id": "2e861b26",
   "metadata": {},
   "outputs": [],
   "source": [
    "import plotly.express as px\n",
    "\n",
    "# Clean column names\n",
    "df.columns = df.columns.str.strip()\n",
    "\n",
    "# Get top 20 schools by total enrollment\n",
    "school_totals = df[['School Name', 'Total']].sort_values('Total', ascending=False).head(20)\n",
    "\n",
    "# Create bar chart\n",
    "fig = px.bar(\n",
    "    school_totals,\n",
    "    x='Total',\n",
    "    y='School Name',\n",
    "    orientation='h',\n",
    "    title='Top 20 Schools by Total Enrollment',\n",
    "    labels={'Total': 'Number of Students', 'School Name': 'School'}\n",
    ")\n",
    "\n",
    "fig.update_layout(yaxis={'categoryorder': 'total ascending'})\n",
    "fig.show()\n"
   ]
  },
  {
   "cell_type": "markdown",
   "id": "a74871f5",
   "metadata": {},
   "source": [
    "#### Enrollment Distribution Across Grades"
   ]
  },
  {
   "cell_type": "code",
   "execution_count": null,
   "id": "8b39fbdf",
   "metadata": {},
   "outputs": [],
   "source": [
    "df_long = df.melt(id_vars=['School Name'], value_vars=[col for col in df.columns if 'Grade' in col], \n",
    "                  var_name='Grade', value_name='Enrollment')\n",
    "fig = px.box(df_long, x='Grade', y='Enrollment', title='Enrollment Distribution per Grade Across Schools')\n",
    "fig.show()\n"
   ]
  },
  {
   "cell_type": "markdown",
   "id": "2003498e",
   "metadata": {},
   "source": [
    "### School Size Categorization"
   ]
  },
  {
   "cell_type": "code",
   "execution_count": null,
   "id": "c5e584da",
   "metadata": {},
   "outputs": [],
   "source": [
    "bins = [0, 300, 600, 1000, 2000]\n",
    "labels = ['Small (<300)', 'Medium (300–600)', 'Large (600–1000)', 'Very Large (>1000)']\n",
    "df['Size Category'] = pd.cut(df['Total'], bins=bins, labels=labels)\n",
    "fig = px.pie(df, names='Size Category', title='Distribution of School Sizes')\n",
    "fig.show()\n"
   ]
  },
  {
   "cell_type": "markdown",
   "id": "9e1d238f",
   "metadata": {},
   "source": [
    "#### PK vs HS Enrollment Comparison"
   ]
  },
  {
   "cell_type": "code",
   "execution_count": null,
   "id": "6219847e",
   "metadata": {},
   "outputs": [],
   "source": [
    "df['Early Grades'] = df[['Grade PK', 'Grade KK']].sum(axis=1)\n",
    "df['High School'] = df[['Grade 11', 'Grade 12']].sum(axis=1)\n",
    "\n",
    "fig = px.scatter(df, x='Early Grades', y='High School',\n",
    "                 hover_name='School Name', title='PK+KK vs. Grade 11–12 Enrollment by School')\n",
    "fig.show()\n"
   ]
  },
  {
   "cell_type": "markdown",
   "id": "477b8bcb",
   "metadata": {},
   "source": [
    "#### Grade Transition Ratios"
   ]
  },
  {
   "cell_type": "code",
   "execution_count": null,
   "id": "0e214da9",
   "metadata": {},
   "outputs": [],
   "source": [
    "df['Grade 04 to 05 Ratio'] = df['Grade 05'] / df['Grade 04']"
   ]
  },
  {
   "cell_type": "markdown",
   "id": "1e9a2b44",
   "metadata": {},
   "source": [
    "#### Outlier Detection"
   ]
  },
  {
   "cell_type": "code",
   "execution_count": null,
   "id": "0788b72b",
   "metadata": {},
   "outputs": [],
   "source": [
    "outliers = df[df['Grade 06'] > df['Grade 05'] * 2]"
   ]
  },
  {
   "cell_type": "code",
   "execution_count": null,
   "id": "08df4c1e",
   "metadata": {},
   "outputs": [],
   "source": []
  }
 ],
 "metadata": {
  "kernelspec": {
   "display_name": "Python 3 (ipykernel)",
   "language": "python",
   "name": "python3"
  },
  "language_info": {
   "codemirror_mode": {
    "name": "ipython",
    "version": 3
   },
   "file_extension": ".py",
   "mimetype": "text/x-python",
   "name": "python",
   "nbconvert_exporter": "python",
   "pygments_lexer": "ipython3",
   "version": "3.9.13"
  }
 },
 "nbformat": 4,
 "nbformat_minor": 5
}
