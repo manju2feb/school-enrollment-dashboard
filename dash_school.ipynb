{
 "cells": [
  {
   "cell_type": "code",
   "execution_count": 1,
   "id": "1136df92",
   "metadata": {},
   "outputs": [
    {
     "name": "stdout",
     "output_type": "stream",
     "text": [
      "Requirement already satisfied: dash in /home/codespace/.python/current/lib/python3.12/site-packages (3.0.4)\n",
      "Requirement already satisfied: Flask<3.1,>=1.0.4 in /home/codespace/.python/current/lib/python3.12/site-packages (from dash) (3.0.3)\n",
      "Requirement already satisfied: Werkzeug<3.1 in /home/codespace/.python/current/lib/python3.12/site-packages (from dash) (3.0.6)\n",
      "Requirement already satisfied: plotly>=5.0.0 in /home/codespace/.local/lib/python3.12/site-packages (from dash) (6.0.1)\n",
      "Requirement already satisfied: importlib-metadata in /home/codespace/.python/current/lib/python3.12/site-packages (from dash) (8.6.1)\n",
      "Requirement already satisfied: typing-extensions>=4.1.1 in /home/codespace/.local/lib/python3.12/site-packages (from dash) (4.12.2)\n",
      "Requirement already satisfied: requests in /home/codespace/.local/lib/python3.12/site-packages (from dash) (2.32.3)\n",
      "Requirement already satisfied: retrying in /home/codespace/.python/current/lib/python3.12/site-packages (from dash) (1.3.4)\n",
      "Requirement already satisfied: nest-asyncio in /home/codespace/.local/lib/python3.12/site-packages (from dash) (1.6.0)\n",
      "Requirement already satisfied: setuptools in /home/codespace/.local/lib/python3.12/site-packages (from dash) (76.0.0)\n",
      "Requirement already satisfied: Jinja2>=3.1.2 in /home/codespace/.local/lib/python3.12/site-packages (from Flask<3.1,>=1.0.4->dash) (3.1.6)\n",
      "Requirement already satisfied: itsdangerous>=2.1.2 in /home/codespace/.python/current/lib/python3.12/site-packages (from Flask<3.1,>=1.0.4->dash) (2.2.0)\n",
      "Requirement already satisfied: click>=8.1.3 in /home/codespace/.python/current/lib/python3.12/site-packages (from Flask<3.1,>=1.0.4->dash) (8.1.8)\n",
      "Requirement already satisfied: blinker>=1.6.2 in /home/codespace/.python/current/lib/python3.12/site-packages (from Flask<3.1,>=1.0.4->dash) (1.9.0)\n",
      "Requirement already satisfied: narwhals>=1.15.1 in /home/codespace/.local/lib/python3.12/site-packages (from plotly>=5.0.0->dash) (1.31.0)\n",
      "Requirement already satisfied: packaging in /home/codespace/.local/lib/python3.12/site-packages (from plotly>=5.0.0->dash) (24.2)\n",
      "Requirement already satisfied: MarkupSafe>=2.1.1 in /home/codespace/.local/lib/python3.12/site-packages (from Werkzeug<3.1->dash) (3.0.2)\n",
      "Requirement already satisfied: zipp>=3.20 in /home/codespace/.python/current/lib/python3.12/site-packages (from importlib-metadata->dash) (3.21.0)\n",
      "Requirement already satisfied: charset-normalizer<4,>=2 in /home/codespace/.local/lib/python3.12/site-packages (from requests->dash) (3.4.1)\n",
      "Requirement already satisfied: idna<4,>=2.5 in /home/codespace/.local/lib/python3.12/site-packages (from requests->dash) (3.10)\n",
      "Requirement already satisfied: urllib3<3,>=1.21.1 in /home/codespace/.local/lib/python3.12/site-packages (from requests->dash) (2.3.0)\n",
      "Requirement already satisfied: certifi>=2017.4.17 in /home/codespace/.local/lib/python3.12/site-packages (from requests->dash) (2025.1.31)\n",
      "Requirement already satisfied: six>=1.7.0 in /home/codespace/.local/lib/python3.12/site-packages (from retrying->dash) (1.17.0)\n",
      "Note: you may need to restart the kernel to use updated packages.\n"
     ]
    }
   ],
   "source": [
    "pip install dash"
   ]
  },
  {
   "cell_type": "code",
   "execution_count": 2,
   "id": "14c7bac3",
   "metadata": {},
   "outputs": [
    {
     "data": {
      "text/html": [
       "\n",
       "        <iframe\n",
       "            width=\"100%\"\n",
       "            height=\"650\"\n",
       "            src=\"http://127.0.0.1:8050/\"\n",
       "            frameborder=\"0\"\n",
       "            allowfullscreen\n",
       "            \n",
       "        ></iframe>\n",
       "        "
      ],
      "text/plain": [
       "<IPython.lib.display.IFrame at 0x70bab125be00>"
      ]
     },
     "metadata": {},
     "output_type": "display_data"
    }
   ],
   "source": [
    "import dash\n",
    "from dash import dcc, html, Input, Output\n",
    "import plotly.express as px\n",
    "import pandas as pd\n",
    "\n",
    "# Load and clean the data\n",
    "df = pd.read_csv('/workspaces/codespaces-jupyter/data/FTE Enrollment by Grade Fiscal Year2019-3 Data Report.csv', skiprows=5, encoding='latin1')\n",
    "df.columns = df.columns.str.strip()\n",
    "\n",
    "# Melt the dataframe for easier plotting\n",
    "df_long = df.melt(id_vars=['School Name'], \n",
    "                  value_vars=[col for col in df.columns if 'Grade' in col], \n",
    "                  var_name='Grade', \n",
    "                  value_name='Enrollment')\n",
    "\n",
    "# Start Dash app\n",
    "app = dash.Dash(__name__)\n",
    "\n",
    "app.layout = html.Div([\n",
    "    html.H1('📊 Georgia K-12 Enrollment Dashboard', style={'textAlign': 'center'}),\n",
    "\n",
    "    html.Div([\n",
    "        html.Label('Select a School:'),\n",
    "        dcc.Dropdown(\n",
    "            options=[{'label': school, 'value': school} for school in df['School Name'].unique()],\n",
    "            id='school-dropdown',\n",
    "            value=df['School Name'].iloc[0],\n",
    "            style={'width': '80%'}\n",
    "        )\n",
    "    ], style={'padding': '20px'}),\n",
    "\n",
    "    dcc.Graph(id='school-grade-bar'),\n",
    "\n",
    "    html.Hr(),\n",
    "\n",
    "    html.Div([\n",
    "        html.Label('Select a Grade:'),\n",
    "        dcc.Dropdown(\n",
    "            options=[{'label': g, 'value': g} for g in df_long['Grade'].unique()],\n",
    "            id='grade-dropdown',\n",
    "            value='Grade 01',\n",
    "            style={'width': '80%'}\n",
    "        )\n",
    "    ], style={'padding': '20px'}),\n",
    "\n",
    "    dcc.Graph(id='grade-across-schools')\n",
    "])\n",
    "\n",
    "@app.callback(\n",
    "    Output('school-grade-bar', 'figure'),\n",
    "    Input('school-dropdown', 'value')\n",
    ")\n",
    "def update_school_chart(selected_school):\n",
    "    school_data = df_long[df_long['School Name'] == selected_school]\n",
    "    fig = px.bar(school_data, x='Grade', y='Enrollment', title=f'Enrollment by Grade: {selected_school}')\n",
    "    return fig\n",
    "\n",
    "@app.callback(\n",
    "    Output('grade-across-schools', 'figure'),\n",
    "    Input('grade-dropdown', 'value')\n",
    ")\n",
    "def update_grade_chart(selected_grade):\n",
    "    grade_data = df[['School Name', selected_grade]].sort_values(selected_grade, ascending=False)\n",
    "    fig = px.bar(grade_data, x=selected_grade, y='School Name', orientation='h', \n",
    "                 title=f'{selected_grade} Enrollment Across Schools')\n",
    "    return fig\n",
    "\n",
    "if __name__ == '__main__':\n",
    "    app.run(debug=True)\n",
    "\n"
   ]
  }
 ],
 "metadata": {
  "kernelspec": {
   "display_name": "Python 3",
   "language": "python",
   "name": "python3"
  },
  "language_info": {
   "codemirror_mode": {
    "name": "ipython",
    "version": 3
   },
   "file_extension": ".py",
   "mimetype": "text/x-python",
   "name": "python",
   "nbconvert_exporter": "python",
   "pygments_lexer": "ipython3",
   "version": "3.12.1"
  }
 },
 "nbformat": 4,
 "nbformat_minor": 5
}
